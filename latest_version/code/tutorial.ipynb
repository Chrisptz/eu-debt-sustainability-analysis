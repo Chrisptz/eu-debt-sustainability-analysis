{
 "cells": [
  {
   "cell_type": "markdown",
   "metadata": {},
   "source": [
    "# How to replicate the European Commission DSA\n",
    "\n",
    "This notebook features an tutorial for the stochastic DSA model replication introduced in \"A Quantitative Evaluation of the European Commission´s Fiscal Governance Proposal\" by Zsolt Darvas, Lennard Welslau, and Jeromin Zettelmeyer (2023). For details on the methodology see the [README](https://github.com/lennardwelslau/eu-debt-sustainability-analysis/blob/main/README.md) file and Annex A3 of the [European Commission's Debt Sustainability Monitor 2023](https://economy-finance.ec.europa.eu/publications/debt-sustainability-monitor-2023_en).\n",
    "\n",
    "For comments and suggestions please contact lennard.welslau[at]gmail[dot]com.\\\n",
    "Last update: 01 June 2024"
   ]
  },
  {
   "cell_type": "code",
   "execution_count": 1,
   "metadata": {},
   "outputs": [],
   "source": [
    "# Import libraries and modules\n",
    "import numpy as np\n",
    "import pandas as pd\n",
    "pd.options.display.float_format = \"{:,.3f}\".format\n",
    "import matplotlib.pyplot as plt\n",
    "import seaborn as sns\n",
    "sns.set_style('whitegrid')\n",
    "\n",
    "# Import DSA model class and stochastic subclass\n",
    "from classes import *\n",
    "from functions import *\n",
    "\n",
    "# Set autoreleoad\n",
    "%load_ext autoreload\n",
    "%autoreload 2"
   ]
  },
  {
   "cell_type": "markdown",
   "metadata": {},
   "source": [
    "### Initializing the DSA model and projecting the debt ratio"
   ]
  },
  {
   "cell_type": "markdown",
   "metadata": {},
   "source": [
    "Initialize model with country ISO code and adjustment period length. For deterministic projections the parent class \"DsaModel\" can be used, although I recommend always calling the StochasticDsaModel class to have access to all functionalities."
   ]
  },
  {
   "cell_type": "code",
   "execution_count": 2,
   "metadata": {},
   "outputs": [],
   "source": [
    "bel_dsa4 = DsaModel(country='BEL', adjustment_period=4)"
   ]
  },
  {
   "cell_type": "markdown",
   "metadata": {},
   "source": [
    "Model functions (methods) and variables (attributes) can be inspected by typing the class name, followed by the attribute name. \\\n",
    "Explore the DsaModelClass and the StochasticDsaModelClass python files to see which attributes and methods exist."
   ]
  },
  {
   "cell_type": "code",
   "execution_count": 3,
   "metadata": {},
   "outputs": [
    {
     "data": {
      "text/plain": [
       "array([25.11216836, 25.35902661, 25.30438211, 25.42929057, 25.60866998,\n",
       "       25.72537935, 25.86872455, 25.80469106, 25.93176262, 26.01668618,\n",
       "       26.10791039, 26.1841957 , 26.30936245, 26.40669419, 26.52080311,\n",
       "       26.594857  , 26.68438292, 26.72071055, 26.80365452, 26.84497823,\n",
       "       26.94859525, 27.02029991, 27.15116563, 27.23184868, 27.36570423,\n",
       "       27.44523852, 27.56918723, 27.64303992, 27.75526931, 27.82627099,\n",
       "       27.94471488, 28.02307079, 28.14872417, 28.22890923, 28.35022875,\n",
       "       28.41932622, 28.52620324, 28.58020844, 28.6788269 , 28.73220022,\n",
       "       28.83952431, 28.90131935, 29.01595248, 29.08404081, 29.21529306,\n",
       "       29.30357521, 29.44872925, 29.5572773 ])"
      ]
     },
     "execution_count": 3,
     "metadata": {},
     "output_type": "execute_result"
    }
   ],
   "source": [
    "bel_dsa4.ageing_cost"
   ]
  },
  {
   "cell_type": "markdown",
   "metadata": {},
   "source": [
    "We can project the debt ratio forward, assuming linear adjustment to a structural primary balance target using the \"project\" method. \\\n",
    "To project the model under specific scenario assumptions, pass the scenario name as a string. Deterministic scenarios are \"main_adjustment\", \"adverse_r_g\", \"financial_stress\", and \"lower_spb\"."
   ]
  },
  {
   "cell_type": "code",
   "execution_count": 4,
   "metadata": {},
   "outputs": [],
   "source": [
    "bel_dsa4.project(spb_target=1.6, scenario='financial_stress')"
   ]
  },
  {
   "cell_type": "markdown",
   "metadata": {},
   "source": [
    "For non-linear adjustment paths, for example due to an Excessive Deficit Procedure, we can specify each ajdustment step individually via the \"adjustment_steps\" attribute. \\\n",
    "Instead of specifying the steps manually, we can also call the \"find_edp\" method, which finds the number of periods in which, given the current SPB target, the minimum adjustment of 0.5% under the EDP is binding. The resulting minimum adjustment steps are updated automatically and saved in the \"edp_steps\" attribute. In cases where the entire adjustment period is needed to reach the 3% deficit targets, the adjustment step size is increased."
   ]
  },
  {
   "cell_type": "code",
   "execution_count": 5,
   "metadata": {},
   "outputs": [
    {
     "data": {
      "text/plain": [
       "array([0.5, 0.5, 0.5, 0. ])"
      ]
     },
     "execution_count": 5,
     "metadata": {},
     "output_type": "execute_result"
    }
   ],
   "source": [
    "adjustment_steps = np.array([0.5, 0.5, 0.5, 0])\n",
    "bel_dsa4.project(adjustment_steps=adjustment_steps,\n",
    "                scenario='main_adjustment')\n",
    "bel_dsa4.adjustment_steps"
   ]
  },
  {
   "cell_type": "markdown",
   "metadata": {},
   "source": [
    "We can show the resulting debt ratio and primary balance path using the \"df\" method. \\\n",
    "The \"df\" method takes strings of the model variables or a dictionary with model variables and desired column names as input argument and returns a pandas dataframe. If the method is called without specified variables, it returns a dataframe with the structural primary balance, the overall balance, and the debt ratio. "
   ]
  },
  {
   "cell_type": "code",
   "execution_count": 6,
   "metadata": {},
   "outputs": [
    {
     "data": {
      "text/html": [
       "<div>\n",
       "<style scoped>\n",
       "    .dataframe tbody tr th:only-of-type {\n",
       "        vertical-align: middle;\n",
       "    }\n",
       "\n",
       "    .dataframe tbody tr th {\n",
       "        vertical-align: top;\n",
       "    }\n",
       "\n",
       "    .dataframe thead th {\n",
       "        text-align: right;\n",
       "    }\n",
       "</style>\n",
       "<table border=\"1\" class=\"dataframe\">\n",
       "  <thead>\n",
       "    <tr style=\"text-align: right;\">\n",
       "      <th></th>\n",
       "      <th></th>\n",
       "      <th>d</th>\n",
       "      <th>ob</th>\n",
       "      <th>sb</th>\n",
       "      <th>spb_bca</th>\n",
       "      <th>spb_bca_adjustment</th>\n",
       "    </tr>\n",
       "    <tr>\n",
       "      <th>t</th>\n",
       "      <th>y</th>\n",
       "      <th></th>\n",
       "      <th></th>\n",
       "      <th></th>\n",
       "      <th></th>\n",
       "      <th></th>\n",
       "    </tr>\n",
       "  </thead>\n",
       "  <tbody>\n",
       "    <tr>\n",
       "      <th>1</th>\n",
       "      <th>2024</th>\n",
       "      <td>104.804</td>\n",
       "      <td>-4.263</td>\n",
       "      <td>-4.023</td>\n",
       "      <td>-1.869</td>\n",
       "      <td>0.309</td>\n",
       "    </tr>\n",
       "    <tr>\n",
       "      <th>2</th>\n",
       "      <th>2025</th>\n",
       "      <td>106.303</td>\n",
       "      <td>-4.273</td>\n",
       "      <td>-3.631</td>\n",
       "      <td>-1.369</td>\n",
       "      <td>0.500</td>\n",
       "    </tr>\n",
       "    <tr>\n",
       "      <th>3</th>\n",
       "      <th>2026</th>\n",
       "      <td>106.532</td>\n",
       "      <td>-3.912</td>\n",
       "      <td>-3.253</td>\n",
       "      <td>-0.869</td>\n",
       "      <td>0.500</td>\n",
       "    </tr>\n",
       "    <tr>\n",
       "      <th>4</th>\n",
       "      <th>2027</th>\n",
       "      <td>106.310</td>\n",
       "      <td>-3.448</td>\n",
       "      <td>-2.850</td>\n",
       "      <td>-0.369</td>\n",
       "      <td>0.500</td>\n",
       "    </tr>\n",
       "    <tr>\n",
       "      <th>5</th>\n",
       "      <th>2028</th>\n",
       "      <td>105.337</td>\n",
       "      <td>-3.151</td>\n",
       "      <td>-2.921</td>\n",
       "      <td>-0.369</td>\n",
       "      <td>0.000</td>\n",
       "    </tr>\n",
       "    <tr>\n",
       "      <th>6</th>\n",
       "      <th>2029</th>\n",
       "      <td>104.833</td>\n",
       "      <td>-3.212</td>\n",
       "      <td>-3.135</td>\n",
       "      <td>-0.369</td>\n",
       "      <td>0.000</td>\n",
       "    </tr>\n",
       "  </tbody>\n",
       "</table>\n",
       "</div>"
      ],
      "text/plain": [
       "             d     ob     sb  spb_bca  spb_bca_adjustment\n",
       "t y                                                      \n",
       "1 2024 104.804 -4.263 -4.023   -1.869               0.309\n",
       "2 2025 106.303 -4.273 -3.631   -1.369               0.500\n",
       "3 2026 106.532 -3.912 -3.253   -0.869               0.500\n",
       "4 2027 106.310 -3.448 -2.850   -0.369               0.500\n",
       "5 2028 105.337 -3.151 -2.921   -0.369               0.000\n",
       "6 2029 104.833 -3.212 -3.135   -0.369               0.000"
      ]
     },
     "execution_count": 6,
     "metadata": {},
     "output_type": "execute_result"
    }
   ],
   "source": [
    "bel_dsa4.df().iloc[1:7]"
   ]
  },
  {
   "cell_type": "markdown",
   "metadata": {},
   "source": [
    "If the df method is called with parameter \"all\" set to \"True\", a preset list of variables will be included. The included variables are listed below."
   ]
  },
  {
   "cell_type": "code",
   "execution_count": 7,
   "metadata": {},
   "outputs": [
    {
     "data": {
      "text/plain": [
       "Index(['d', 'spb_bca', 'spb_bca_adjustment', 'spb', 'pb', 'ob', 'sb',\n",
       "       'ageing_component', 'cyclical_component', 'interest_ratio',\n",
       "       'ageing_cost', 'rg', 'rg_pot', 'ng', 'output_gap', 'pi', 'rgdp_pot',\n",
       "       'rgdp', 'ngdp', 'i_st', 'i_lt', 'iir_lt', 'iir', 'sf', 'D', 'D_lt_esm',\n",
       "       'D_st', 'D_lt', 'repayment', 'repayment_lt', 'repayment_lt_esm',\n",
       "       'interest', 'interest_lt', 'interest_st'],\n",
       "      dtype='object')"
      ]
     },
     "execution_count": 7,
     "metadata": {},
     "output_type": "execute_result"
    }
   ],
   "source": [
    "bel_dsa4.df(all=True).columns"
   ]
  },
  {
   "cell_type": "markdown",
   "metadata": {},
   "source": [
    "### Deterministic Optimization"
   ]
  },
  {
   "cell_type": "markdown",
   "metadata": {},
   "source": [
    "The \"find_spb_deterministic\" optimizes for a structural primary balance at the end of the adjustment period that meets the specified deterministic scenario criterion. Additional parameters, like initial adjustment periods, that have been specified in the initial projection, are taken as given.\\\n",
    "The criterion can be any of 'main_adjustment', 'lower_spb', 'financial_stress', 'adverse_r_g', 'deficit_reduction', or 'debt_safeguard'. \\\n",
    "Note that the debt_safeguard is applied from the end of the Excessive Deficit Procedure. Because the end of the EDP may vary with the size of annual adjustments, the debt safeguard may produce a different target when applied by itself or after having optimized for other criteria. In our analysis, we apply the debt safeguard conditional on the toughest scenario path."
   ]
  },
  {
   "cell_type": "code",
   "execution_count": 8,
   "metadata": {},
   "outputs": [
    {
     "data": {
      "text/plain": [
       "1.0917999999998327"
      ]
     },
     "execution_count": 8,
     "metadata": {},
     "output_type": "execute_result"
    }
   ],
   "source": [
    "bel_dsa4.find_spb_deterministic(criterion='adverse_r_g')"
   ]
  },
  {
   "cell_type": "markdown",
   "metadata": {},
   "source": [
    "The model projections are updated automatically to the optimal SPB target and we can plot the resulting debt ratio projection, for example by using the \"df\" method and pandas' built-in plotting function.\\\n",
    "Here we plot the ageing-cost adjusted structural primary balance, as well as the structural primary balance that includes ageing costs, the overall balance, and the debt ratio."
   ]
  },
  {
   "cell_type": "code",
   "execution_count": 9,
   "metadata": {},
   "outputs": [
    {
     "data": {
      "text/plain": [
       "<Axes: title={'center': 'Belgium: Debt ratio and balance'}, xlabel='(t, Year)'>"
      ]
     },
     "execution_count": 9,
     "metadata": {},
     "output_type": "execute_result"
    },
    {
     "data": {
      "image/png": "[encoded data removed]",
      "text/plain": [
       "<Figure size 1000x600 with 2 Axes>"
      ]
     },
     "metadata": {},
     "output_type": "display_data"
    }
   ],
   "source": [
    "bel_dsa4.df('spb_bca', 'spb',  'ob', 'd').plot(\n",
    "    title='Belgium: Debt ratio and balance', \n",
    "    secondary_y=['spb', 'spb_bca', 'ob'], \n",
    "    ylabel='Percent of GDP', \n",
    "    xlabel='(t, Year)', \n",
    "    legend=True, \n",
    "    figsize=(10, 6))"
   ]
  },
  {
   "cell_type": "markdown",
   "metadata": {},
   "source": [
    "### Stochastic Optimization"
   ]
  },
  {
   "cell_type": "markdown",
   "metadata": {},
   "source": [
    "The StochasticDsaModel class is a subclass of the DsaModel and inherits all its functionalities. It is initiated analogously.\n",
    "\n",
    "The latest update introuces a number of addiitonal parameters that can be altered to test model assumptions. These include:\n",
    "- \"ageing_cost_period\" to specify the post-adjustment window during which ageing costs are seperated out from SPB \n",
    "- \"shock_frequency\" to specify the underlying shock data frequenct as \"quarterly\" or annual\"\n",
    "- \"shock_sample_start\" for the start of the sampled shock data\n",
    "- \"stochastic_start_year\" for the start of the fanchart, ie the period form which unceirtainty is incorporated into projections"
   ]
  },
  {
   "cell_type": "code",
   "execution_count": 10,
   "metadata": {},
   "outputs": [],
   "source": [
    "esp_sdsa7 = StochasticDsaModel(country='ESP', adjustment_period=7)"
   ]
  },
  {
   "cell_type": "markdown",
   "metadata": {},
   "source": [
    "After projecting the debt path, the \"simulate\" method simulates N projections based on shocks to growth, interest rate, exchange rate, and primary balance."
   ]
  },
  {
   "cell_type": "code",
   "execution_count": 11,
   "metadata": {},
   "outputs": [],
   "source": [
    "esp_sdsa7.project()\n",
    "esp_sdsa7.simulate(N=100000)"
   ]
  },
  {
   "cell_type": "markdown",
   "metadata": {},
   "source": [
    "The \"fanchart\" method plots the percentiles of the simulated distribution of the debt ratio. If the save_df option is specified, we can access the underlying percentile data as new model attribute. The period parameter determines the number of projection periods. The Commission methodology uses 5."
   ]
  },
  {
   "cell_type": "code",
   "execution_count": 12,
   "metadata": {},
   "outputs": [
    {
     "data": {
      "image/png": "[encoded data removed]",
      "text/plain": [
       "<Figure size 1000x600 with 1 Axes>"
      ]
     },
     "metadata": {},
     "output_type": "display_data"
    }
   ],
   "source": [
    "esp_sdsa7.fanchart()"
   ]
  },
  {
   "cell_type": "code",
   "execution_count": 13,
   "metadata": {},
   "outputs": [
    {
     "data": {
      "text/html": [
       "<div>\n",
       "<style scoped>\n",
       "    .dataframe tbody tr th:only-of-type {\n",
       "        vertical-align: middle;\n",
       "    }\n",
       "\n",
       "    .dataframe tbody tr th {\n",
       "        vertical-align: top;\n",
       "    }\n",
       "\n",
       "    .dataframe thead th {\n",
       "        text-align: right;\n",
       "    }\n",
       "</style>\n",
       "<table border=\"1\" class=\"dataframe\">\n",
       "  <thead>\n",
       "    <tr style=\"text-align: right;\">\n",
       "      <th></th>\n",
       "      <th>year</th>\n",
       "      <th>baseline</th>\n",
       "      <th>p10</th>\n",
       "      <th>p20</th>\n",
       "      <th>p30</th>\n",
       "      <th>p40</th>\n",
       "      <th>p50</th>\n",
       "      <th>p60</th>\n",
       "      <th>p70</th>\n",
       "      <th>p80</th>\n",
       "      <th>p90</th>\n",
       "    </tr>\n",
       "  </thead>\n",
       "  <tbody>\n",
       "    <tr>\n",
       "      <th>8</th>\n",
       "      <td>2031</td>\n",
       "      <td>105.188</td>\n",
       "      <td>105.188</td>\n",
       "      <td>105.188</td>\n",
       "      <td>105.188</td>\n",
       "      <td>105.188</td>\n",
       "      <td>105.188</td>\n",
       "      <td>105.188</td>\n",
       "      <td>105.188</td>\n",
       "      <td>105.188</td>\n",
       "      <td>105.188</td>\n",
       "    </tr>\n",
       "    <tr>\n",
       "      <th>9</th>\n",
       "      <td>2032</td>\n",
       "      <td>106.347</td>\n",
       "      <td>101.675</td>\n",
       "      <td>103.270</td>\n",
       "      <td>104.431</td>\n",
       "      <td>105.429</td>\n",
       "      <td>106.361</td>\n",
       "      <td>107.303</td>\n",
       "      <td>108.318</td>\n",
       "      <td>109.506</td>\n",
       "      <td>111.178</td>\n",
       "    </tr>\n",
       "    <tr>\n",
       "      <th>10</th>\n",
       "      <td>2033</td>\n",
       "      <td>107.945</td>\n",
       "      <td>101.335</td>\n",
       "      <td>103.586</td>\n",
       "      <td>105.209</td>\n",
       "      <td>106.621</td>\n",
       "      <td>107.950</td>\n",
       "      <td>109.301</td>\n",
       "      <td>110.734</td>\n",
       "      <td>112.458</td>\n",
       "      <td>114.884</td>\n",
       "    </tr>\n",
       "    <tr>\n",
       "      <th>11</th>\n",
       "      <td>2034</td>\n",
       "      <td>109.871</td>\n",
       "      <td>101.740</td>\n",
       "      <td>104.483</td>\n",
       "      <td>106.513</td>\n",
       "      <td>108.236</td>\n",
       "      <td>109.913</td>\n",
       "      <td>111.589</td>\n",
       "      <td>113.403</td>\n",
       "      <td>115.502</td>\n",
       "      <td>118.490</td>\n",
       "    </tr>\n",
       "    <tr>\n",
       "      <th>12</th>\n",
       "      <td>2035</td>\n",
       "      <td>111.984</td>\n",
       "      <td>102.493</td>\n",
       "      <td>105.709</td>\n",
       "      <td>108.083</td>\n",
       "      <td>110.119</td>\n",
       "      <td>112.070</td>\n",
       "      <td>114.021</td>\n",
       "      <td>116.088</td>\n",
       "      <td>118.600</td>\n",
       "      <td>122.102</td>\n",
       "    </tr>\n",
       "    <tr>\n",
       "      <th>13</th>\n",
       "      <td>2036</td>\n",
       "      <td>114.234</td>\n",
       "      <td>103.478</td>\n",
       "      <td>107.168</td>\n",
       "      <td>109.836</td>\n",
       "      <td>112.133</td>\n",
       "      <td>114.308</td>\n",
       "      <td>116.515</td>\n",
       "      <td>118.949</td>\n",
       "      <td>121.808</td>\n",
       "      <td>125.827</td>\n",
       "    </tr>\n",
       "  </tbody>\n",
       "</table>\n",
       "</div>"
      ],
      "text/plain": [
       "    year  baseline     p10     p20     p30     p40     p50     p60     p70  \\\n",
       "8   2031   105.188 105.188 105.188 105.188 105.188 105.188 105.188 105.188   \n",
       "9   2032   106.347 101.675 103.270 104.431 105.429 106.361 107.303 108.318   \n",
       "10  2033   107.945 101.335 103.586 105.209 106.621 107.950 109.301 110.734   \n",
       "11  2034   109.871 101.740 104.483 106.513 108.236 109.913 111.589 113.403   \n",
       "12  2035   111.984 102.493 105.709 108.083 110.119 112.070 114.021 116.088   \n",
       "13  2036   114.234 103.478 107.168 109.836 112.133 114.308 116.515 118.949   \n",
       "\n",
       "       p80     p90  \n",
       "8  105.188 105.188  \n",
       "9  109.506 111.178  \n",
       "10 112.458 114.884  \n",
       "11 115.502 118.490  \n",
       "12 118.600 122.102  \n",
       "13 121.808 125.827  "
      ]
     },
     "execution_count": 13,
     "metadata": {},
     "output_type": "execute_result"
    }
   ],
   "source": [
    "esp_sdsa7.df_fanchart.dropna()"
   ]
  },
  {
   "cell_type": "markdown",
   "metadata": {},
   "source": [
    "The \"find_spb_stochastic\" method optimizes for the primary balance path that ensures no more than 30% of simulated debt ratio paths are increasing. The probability target and the period over whcih the fanchart and the criterion are applied can be changed from their default values."
   ]
  },
  {
   "cell_type": "code",
   "execution_count": 14,
   "metadata": {},
   "outputs": [
    {
     "data": {
      "text/plain": [
       "1.664254303103485"
      ]
     },
     "execution_count": 14,
     "metadata": {},
     "output_type": "execute_result"
    }
   ],
   "source": [
    "esp_sdsa7.find_spb_stochastic(prob_target=0.3)"
   ]
  },
  {
   "cell_type": "markdown",
   "metadata": {},
   "source": [
    "### Integrated optimization"
   ]
  },
  {
   "cell_type": "markdown",
   "metadata": {},
   "source": [
    "To quickly calculate all scenarios and detmerine which is binding, we can call the \"find_spb_binding\" method. Note that this method is only available after initalizing a stochastic model. \\\n",
    "The method determines optimal SPB targets for all deterministic and stochastic DSA criteria, as well as for the 3% deficit criteria. If no spcified differently, the method then checks whether the EDP or either of the two safeguards, the debt and the deficit resilience safeguard, are violated and corrects the binding SPB target accordingly."
   ]
  },
  {
   "cell_type": "code",
   "execution_count": 15,
   "metadata": {},
   "outputs": [
    {
     "name": "stdout",
     "output_type": "stream",
     "text": [
      "                   Model Params                                      SPB Targets               \n",
      "=================================================     =========================================\n",
      "country                                       ESP     main_adjustment                     2.108\n",
      "adjustment period                               7     lower_spb                           2.599\n",
      "adjustment start                             2025     financial_stress                    2.147\n",
      "shock frequency                         quarterly     adverse_r_g                         2.777\n",
      "stochastic period                       2032-2037     deficit_reduction                   2.274\n",
      "estimation                                normal      stochastic                          1.664\n",
      "bond level data                             False     deficit_resilience_post_adjustment  1.442\n",
      "safeguards         EDP, debt, deficit_resilience      binding                             2.777\n",
      "=================================================     =========================================\n",
      "\n",
      "                                         Binding Params                                        \n",
      "===============================================================================================\n",
      "adjustment_steps                                0.518, 0.518, 0.518, 0.518, 0.518, 0.518, 0.518\n",
      "spb_target                                                                                2.777\n",
      "criterion                                                                           adverse_r_g\n",
      "edp_binding                                                                               False\n",
      "edp_steps                                                     nan, nan, nan, nan, nan, nan, nan\n",
      "debt_safeguard_binding                                                                    False\n",
      "deficit_resilience_binding                                                                False\n",
      "deficit_resilience_steps                                      nan, nan, nan, nan, nan, nan, nan\n",
      "deficit_resilience_post_adjustment_binding                                                 True\n",
      "===============================================================================================\n",
      "\n"
     ]
    }
   ],
   "source": [
    "esp_sdsa7.find_spb_binding(\n",
    "    save_df=True, \n",
    "    edp=True, \n",
    "    debt_safeguard=True, \n",
    "    deficit_resilience=True, \n",
    "    deficit_resilience_post_adjustment=True\n",
    "    )"
   ]
  },
  {
   "cell_type": "markdown",
   "metadata": {},
   "source": [
    "The \"find_spb_binding\" method saves a dictionaries with the binding targets and timeseries for all scenarios. In addition, it saves the projection parameters of the binding scenario for quick replication."
   ]
  },
  {
   "cell_type": "code",
   "execution_count": 16,
   "metadata": {},
   "outputs": [
    {
     "data": {
      "text/plain": [
       "{'main_adjustment': 2.1077999999998256,\n",
       " 'lower_spb': 2.5987999999998173,\n",
       " 'financial_stress': 2.146899999999823,\n",
       " 'adverse_r_g': 2.776799999999809,\n",
       " 'deficit_reduction': 2.2742999999998146,\n",
       " 'stochastic': 1.6640393188713603,\n",
       " 'deficit_resilience_post_adjustment': 1.4423255469430707,\n",
       " 'binding': 2.776799999999809}"
      ]
     },
     "execution_count": 16,
     "metadata": {},
     "output_type": "execute_result"
    }
   ],
   "source": [
    "esp_sdsa7.spb_target_dict"
   ]
  },
  {
   "cell_type": "code",
   "execution_count": 17,
   "metadata": {},
   "outputs": [
    {
     "data": {
      "text/html": [
       "<div>\n",
       "<style scoped>\n",
       "    .dataframe tbody tr th:only-of-type {\n",
       "        vertical-align: middle;\n",
       "    }\n",
       "\n",
       "    .dataframe tbody tr th {\n",
       "        vertical-align: top;\n",
       "    }\n",
       "\n",
       "    .dataframe thead th {\n",
       "        text-align: right;\n",
       "    }\n",
       "</style>\n",
       "<table border=\"1\" class=\"dataframe\">\n",
       "  <thead>\n",
       "    <tr style=\"text-align: right;\">\n",
       "      <th></th>\n",
       "      <th></th>\n",
       "      <th>d</th>\n",
       "      <th>spb_bca</th>\n",
       "      <th>spb_bca_adjustment</th>\n",
       "      <th>spb</th>\n",
       "      <th>pb</th>\n",
       "      <th>ob</th>\n",
       "      <th>sb</th>\n",
       "      <th>ageing_component</th>\n",
       "      <th>cyclical_component</th>\n",
       "      <th>interest_ratio</th>\n",
       "      <th>...</th>\n",
       "      <th>D</th>\n",
       "      <th>D_lt_esm</th>\n",
       "      <th>D_st</th>\n",
       "      <th>D_lt</th>\n",
       "      <th>repayment</th>\n",
       "      <th>repayment_lt</th>\n",
       "      <th>repayment_lt_esm</th>\n",
       "      <th>interest</th>\n",
       "      <th>interest_lt</th>\n",
       "      <th>interest_st</th>\n",
       "    </tr>\n",
       "    <tr>\n",
       "      <th>t</th>\n",
       "      <th>y</th>\n",
       "      <th></th>\n",
       "      <th></th>\n",
       "      <th></th>\n",
       "      <th></th>\n",
       "      <th></th>\n",
       "      <th></th>\n",
       "      <th></th>\n",
       "      <th></th>\n",
       "      <th></th>\n",
       "      <th></th>\n",
       "      <th></th>\n",
       "      <th></th>\n",
       "      <th></th>\n",
       "      <th></th>\n",
       "      <th></th>\n",
       "      <th></th>\n",
       "      <th></th>\n",
       "      <th></th>\n",
       "      <th></th>\n",
       "      <th></th>\n",
       "      <th></th>\n",
       "    </tr>\n",
       "  </thead>\n",
       "  <tbody>\n",
       "    <tr>\n",
       "      <th>0</th>\n",
       "      <th>2023</th>\n",
       "      <td>107.652</td>\n",
       "      <td>-1.631</td>\n",
       "      <td>NaN</td>\n",
       "      <td>-1.631</td>\n",
       "      <td>-1.176</td>\n",
       "      <td>-3.636</td>\n",
       "      <td>-4.091</td>\n",
       "      <td>0.000</td>\n",
       "      <td>0.455</td>\n",
       "      <td>NaN</td>\n",
       "      <td>...</td>\n",
       "      <td>1,573.800</td>\n",
       "      <td>-0.000</td>\n",
       "      <td>89.822</td>\n",
       "      <td>1,483.978</td>\n",
       "      <td>NaN</td>\n",
       "      <td>NaN</td>\n",
       "      <td>4.575</td>\n",
       "      <td>NaN</td>\n",
       "      <td>NaN</td>\n",
       "      <td>NaN</td>\n",
       "    </tr>\n",
       "    <tr>\n",
       "      <th>1</th>\n",
       "      <th>2024</th>\n",
       "      <td>105.229</td>\n",
       "      <td>-0.849</td>\n",
       "      <td>0.782</td>\n",
       "      <td>-0.849</td>\n",
       "      <td>-0.265</td>\n",
       "      <td>-2.788</td>\n",
       "      <td>-3.372</td>\n",
       "      <td>0.000</td>\n",
       "      <td>0.584</td>\n",
       "      <td>2.523</td>\n",
       "      <td>...</td>\n",
       "      <td>1,623.720</td>\n",
       "      <td>-4.575</td>\n",
       "      <td>94.235</td>\n",
       "      <td>1,534.060</td>\n",
       "      <td>225.745</td>\n",
       "      <td>131.348</td>\n",
       "      <td>4.575</td>\n",
       "      <td>38.895</td>\n",
       "      <td>35.964</td>\n",
       "      <td>2.931</td>\n",
       "    </tr>\n",
       "    <tr>\n",
       "      <th>2</th>\n",
       "      <th>2025</th>\n",
       "      <td>104.512</td>\n",
       "      <td>-0.331</td>\n",
       "      <td>0.518</td>\n",
       "      <td>-0.331</td>\n",
       "      <td>0.019</td>\n",
       "      <td>-2.549</td>\n",
       "      <td>-2.899</td>\n",
       "      <td>0.000</td>\n",
       "      <td>0.350</td>\n",
       "      <td>2.568</td>\n",
       "      <td>...</td>\n",
       "      <td>1,679.717</td>\n",
       "      <td>-8.218</td>\n",
       "      <td>98.674</td>\n",
       "      <td>1,589.261</td>\n",
       "      <td>232.949</td>\n",
       "      <td>135.071</td>\n",
       "      <td>3.643</td>\n",
       "      <td>41.182</td>\n",
       "      <td>37.932</td>\n",
       "      <td>3.250</td>\n",
       "    </tr>\n",
       "    <tr>\n",
       "      <th>3</th>\n",
       "      <th>2026</th>\n",
       "      <td>103.559</td>\n",
       "      <td>0.187</td>\n",
       "      <td>0.518</td>\n",
       "      <td>0.187</td>\n",
       "      <td>0.188</td>\n",
       "      <td>-2.502</td>\n",
       "      <td>-2.503</td>\n",
       "      <td>0.000</td>\n",
       "      <td>0.001</td>\n",
       "      <td>2.690</td>\n",
       "      <td>...</td>\n",
       "      <td>1,721.206</td>\n",
       "      <td>-11.861</td>\n",
       "      <td>102.517</td>\n",
       "      <td>1,630.550</td>\n",
       "      <td>242.507</td>\n",
       "      <td>140.191</td>\n",
       "      <td>3.643</td>\n",
       "      <td>44.613</td>\n",
       "      <td>41.225</td>\n",
       "      <td>3.388</td>\n",
       "    </tr>\n",
       "    <tr>\n",
       "      <th>4</th>\n",
       "      <th>2027</th>\n",
       "      <td>102.521</td>\n",
       "      <td>0.705</td>\n",
       "      <td>0.518</td>\n",
       "      <td>0.705</td>\n",
       "      <td>0.435</td>\n",
       "      <td>-2.346</td>\n",
       "      <td>-2.076</td>\n",
       "      <td>0.000</td>\n",
       "      <td>-0.270</td>\n",
       "      <td>2.781</td>\n",
       "      <td>...</td>\n",
       "      <td>1,761.405</td>\n",
       "      <td>-11.861</td>\n",
       "      <td>104.924</td>\n",
       "      <td>1,668.342</td>\n",
       "      <td>243.013</td>\n",
       "      <td>140.496</td>\n",
       "      <td>0.000</td>\n",
       "      <td>47.655</td>\n",
       "      <td>44.151</td>\n",
       "      <td>3.504</td>\n",
       "    </tr>\n",
       "  </tbody>\n",
       "</table>\n",
       "<p>5 rows × 34 columns</p>\n",
       "</div>"
      ],
      "text/plain": [
       "             d  spb_bca  spb_bca_adjustment    spb     pb     ob     sb  \\\n",
       "t y                                                                       \n",
       "0 2023 107.652   -1.631                 NaN -1.631 -1.176 -3.636 -4.091   \n",
       "1 2024 105.229   -0.849               0.782 -0.849 -0.265 -2.788 -3.372   \n",
       "2 2025 104.512   -0.331               0.518 -0.331  0.019 -2.549 -2.899   \n",
       "3 2026 103.559    0.187               0.518  0.187  0.188 -2.502 -2.503   \n",
       "4 2027 102.521    0.705               0.518  0.705  0.435 -2.346 -2.076   \n",
       "\n",
       "        ageing_component  cyclical_component  interest_ratio  ...         D  \\\n",
       "t y                                                           ...             \n",
       "0 2023             0.000               0.455             NaN  ... 1,573.800   \n",
       "1 2024             0.000               0.584           2.523  ... 1,623.720   \n",
       "2 2025             0.000               0.350           2.568  ... 1,679.717   \n",
       "3 2026             0.000               0.001           2.690  ... 1,721.206   \n",
       "4 2027             0.000              -0.270           2.781  ... 1,761.405   \n",
       "\n",
       "        D_lt_esm    D_st      D_lt  repayment  repayment_lt  repayment_lt_esm  \\\n",
       "t y                                                                             \n",
       "0 2023    -0.000  89.822 1,483.978        NaN           NaN             4.575   \n",
       "1 2024    -4.575  94.235 1,534.060    225.745       131.348             4.575   \n",
       "2 2025    -8.218  98.674 1,589.261    232.949       135.071             3.643   \n",
       "3 2026   -11.861 102.517 1,630.550    242.507       140.191             3.643   \n",
       "4 2027   -11.861 104.924 1,668.342    243.013       140.496             0.000   \n",
       "\n",
       "        interest  interest_lt  interest_st  \n",
       "t y                                         \n",
       "0 2023       NaN          NaN          NaN  \n",
       "1 2024    38.895       35.964        2.931  \n",
       "2 2025    41.182       37.932        3.250  \n",
       "3 2026    44.613       41.225        3.388  \n",
       "4 2027    47.655       44.151        3.504  \n",
       "\n",
       "[5 rows x 34 columns]"
      ]
     },
     "execution_count": 17,
     "metadata": {},
     "output_type": "execute_result"
    }
   ],
   "source": [
    "esp_sdsa7.df_dict['binding'].head()"
   ]
  },
  {
   "cell_type": "code",
   "execution_count": 18,
   "metadata": {},
   "outputs": [
    {
     "data": {
      "text/plain": [
       "{'adjustment_steps': array([0.51797143, 0.51797143, 0.51797143, 0.51797143, 0.51797143,\n",
       "        0.51797143, 0.51797143]),\n",
       " 'spb_target': 2.776799999999809,\n",
       " 'criterion': 'adverse_r_g',\n",
       " 'edp_binding': False,\n",
       " 'edp_steps': array([nan, nan, nan, nan, nan, nan, nan]),\n",
       " 'debt_safeguard_binding': False,\n",
       " 'deficit_resilience_binding': False,\n",
       " 'deficit_resilience_steps': array([nan, nan, nan, nan, nan, nan, nan]),\n",
       " 'deficit_resilience_post_adjustment_binding': True,\n",
       " 'post_adjustment_steps': array([0.   , 0.   , 0.   , 0.   , 0.   , 0.056, 0.18 , 0.17 , 0.14 ,\n",
       "        0.172, 0.   , 0.   , 0.   , 0.   , 0.   , 0.   , 0.   , 0.   ,\n",
       "        0.   , 0.   , 0.   , 0.   , 0.   , 0.   , 0.   , 0.   , 0.   ,\n",
       "        0.   , 0.   , 0.   , 0.   , 0.   , 0.   , 0.   , 0.   , 0.   ,\n",
       "        0.   , 0.   , 0.   ])}"
      ]
     },
     "execution_count": 18,
     "metadata": {},
     "output_type": "execute_result"
    }
   ],
   "source": [
    "esp_sdsa7.binding_parameter_dict"
   ]
  },
  {
   "cell_type": "markdown",
   "metadata": {},
   "source": [
    "### Running the DSA for all countries\n",
    "The functions in the functions folder contian preset loops that run the DSA for all countries, save and plot results. Simply run the \"main.ipynb\"."
   ]
  },
  {
   "cell_type": "markdown",
   "metadata": {},
   "source": [
    "### Additional functionality\n",
    "The model offers methods and parameters for addiitonal analysis and the exploration of methodological assumptions"
   ]
  },
  {
   "cell_type": "markdown",
   "metadata": {},
   "source": [
    "The \"find_deficit_prob\" method builds on the stochastic model to calculate the probabilites of an excessive deficit in each year of the adjustment period. \\\n",
    "We can either call it directly by specifying an adjustment path or call it after we have optimized the path as above."
   ]
  },
  {
   "cell_type": "code",
   "execution_count": 19,
   "metadata": {},
   "outputs": [
    {
     "data": {
      "text/plain": [
       "Text(0.5, 1.0, 'Spain: Probability of deficit during 7-year adjustment')"
      ]
     },
     "execution_count": 19,
     "metadata": {},
     "output_type": "execute_result"
    },
    {
     "data": {
      "image/png": "[encoded data removed]",
      "text/plain": [
       "<Figure size 640x480 with 1 Axes>"
      ]
     },
     "metadata": {},
     "output_type": "display_data"
    }
   ],
   "source": [
    "prob_deficit = esp_sdsa7.find_deficit_prob()\n",
    "plt.bar(np.arange(2025, 2032), prob_deficit)\n",
    "plt.title('Spain: Probability of deficit during 7-year adjustment')"
   ]
  },
  {
   "cell_type": "markdown",
   "metadata": {},
   "source": [
    "The function \"run_multiple_periods\" from the functions package can be used to to simulate consecutive adjustment periods and gain insight into which criteria would be bindin in future applications of the fiscal rules. It initial optimization for a given adjustment period, saves the net expenditure path, and optimizes the next period, taking the first period's path as given."
   ]
  },
  {
   "cell_type": "code",
   "execution_count": 4,
   "metadata": {},
   "outputs": [
    {
     "name": "stdout",
     "output_type": "stream",
     "text": [
      "                   Model Params                              SPB Targets        \n",
      "=================================================     ==========================\n",
      "country                                       FRA     main_adjustment     -0.023\n",
      "adjustment period                               7     lower_spb            0.533\n",
      "adjustment start                             2025     financial_stress     0.383\n",
      "shock frequency                         quarterly     adverse_r_g          0.795\n",
      "stochastic period                       2032-2037     deficit_reduction    0.753\n",
      "estimation                                normal      stochastic           0.582\n",
      "bond level data                             False     edp                  0.788\n",
      "safeguards         EDP, debt, deficit_resilience      deficit_resilience   0.814\n",
      "                                                      binding              0.814\n",
      "=================================================     ==========================\n",
      "\n",
      "                                 Binding Params                                 \n",
      "================================================================================\n",
      "adjustment_steps                 0.537, 0.537, 0.537, 0.658, 0.642, 0.623, 0.251\n",
      "spb_target                                                                 0.814\n",
      "criterion                                                            adverse_r_g\n",
      "edp_binding                                                                 True\n",
      "edp_steps                        0.537, 0.537, 0.537, 0.658, 0.642, 0.623,   nan\n",
      "debt_safeguard_binding                                                     False\n",
      "deficit_resilience_binding                                                  True\n",
      "deficit_resilience_steps           nan,   nan,   nan,   nan,   nan,   nan, 0.251\n",
      "================================================================================\n",
      "\n",
      "          Model Params                     SPB Targets       \n",
      "===============================     =========================\n",
      "country                     FRA     main_adjustment    -0.051\n",
      "adjustment period            11     lower_spb           0.414\n",
      "adjustment start           2025     financial_stress    0.414\n",
      "shock frequency       quarterly     adverse_r_g         0.826\n",
      "stochastic period     2036-2041     deficit_reduction   0.661\n",
      "estimation              normal      stochastic          0.476\n",
      "bond level data           False     debt_safeguard      3.098\n",
      "safeguards         EDP, debt,       binding             3.098\n",
      "===============================     =========================\n",
      "\n",
      "                        Binding Params                       \n",
      "=============================================================\n",
      "spb_target                                              3.098\n",
      "criterion                                      debt_safeguard\n",
      "edp_binding                                             False\n",
      "debt_safeguard_binding                                   True\n",
      "adjustment_steps (1-7)   0.537, 0.537, 0.537, 0.658, 0.642, 0.623, 0.251\n",
      "adjustment_steps (8-11)            0.571, 0.571, 0.571, 0.571\n",
      "edp_steps (1-7)          0.537, 0.537, 0.537,   nan,   nan,   nan,   nan\n",
      "edp_steps (8-11)                           nan, nan, nan, nan\n",
      "=============================================================\n",
      "\n",
      "          Model Params                    SPB Targets       \n",
      "===============================     ========================\n",
      "country                     FRA     main_adjustment    0.186\n",
      "adjustment period            15     lower_spb          0.694\n",
      "adjustment start           2025     financial_stress   0.240\n",
      "shock frequency       quarterly     adverse_r_g        0.970\n",
      "stochastic period     2040-2045     deficit_reduction  0.396\n",
      "estimation              normal      stochastic         0.468\n",
      "bond level data           False     binding            0.970\n",
      "safeguards         EDP, debt,                               \n",
      "===============================     ========================\n",
      "\n",
      "                       Binding Params                       \n",
      "============================================================\n",
      "spb_target                                             0.970\n",
      "criterion                                        adverse_r_g\n",
      "edp_binding                                            False\n",
      "debt_safeguard_binding                                 False\n",
      "adjustment_steps (1-7)    0.537, 0.537, 0.537, 0.658, 0.642, 0.623, 0.251\n",
      "adjustment_steps (8-14)    0.571,  0.571,  0.571,  0.571, -0.532, -0.532, -0.532\n",
      "adjustment_steps (15-15)                              -0.532\n",
      "edp_steps (1-7)           0.537, 0.537, 0.537,   nan,   nan,   nan,   nan\n",
      "edp_steps (8-14)           nan, nan, nan, nan, nan, nan, nan\n",
      "edp_steps (15-15)                                        nan\n",
      "============================================================\n",
      "\n",
      "          Model Params                    SPB Targets       \n",
      "===============================     ========================\n",
      "country                     FRA     main_adjustment    0.224\n",
      "adjustment period            19     lower_spb          0.720\n",
      "adjustment start           2025     financial_stress   0.268\n",
      "shock frequency       quarterly     adverse_r_g        0.980\n",
      "stochastic period     2044-2049     deficit_reduction  0.313\n",
      "estimation              normal      stochastic         0.637\n",
      "bond level data           False     binding            0.980\n",
      "safeguards         EDP, debt,                               \n",
      "===============================     ========================\n",
      "\n",
      "                       Binding Params                       \n",
      "============================================================\n",
      "spb_target                                             0.980\n",
      "criterion                                        adverse_r_g\n",
      "edp_binding                                            False\n",
      "debt_safeguard_binding                                 False\n",
      "adjustment_steps (1-7)    0.537, 0.537, 0.537, 0.658, 0.642, 0.623, 0.251\n",
      "adjustment_steps (8-14)    0.571,  0.571,  0.571,  0.571, -0.532, -0.532, -0.532\n",
      "adjustment_steps (15-19)  -0.532,  0.002,  0.002,  0.002,  0.002\n",
      "edp_steps (1-7)           0.537, 0.537, 0.537,   nan,   nan,   nan,   nan\n",
      "edp_steps (8-14)           nan, nan, nan, nan, nan, nan, nan\n",
      "edp_steps (15-19)                    nan, nan, nan, nan, nan\n",
      "============================================================\n",
      "\n"
     ]
    },
    {
     "data": {
      "image/png": "[encoded data removed]",
      "text/plain": [
       "<Figure size 640x480 with 2 Axes>"
      ]
     },
     "metadata": {},
     "output_type": "display_data"
    },
    {
     "data": {
      "text/html": [
       "<div>\n",
       "<style scoped>\n",
       "    .dataframe tbody tr th:only-of-type {\n",
       "        vertical-align: middle;\n",
       "    }\n",
       "\n",
       "    .dataframe tbody tr th {\n",
       "        vertical-align: top;\n",
       "    }\n",
       "\n",
       "    .dataframe thead th {\n",
       "        text-align: right;\n",
       "    }\n",
       "</style>\n",
       "<table border=\"1\" class=\"dataframe\">\n",
       "  <thead>\n",
       "    <tr style=\"text-align: right;\">\n",
       "      <th></th>\n",
       "      <th>main_adjustment</th>\n",
       "      <th>lower_spb</th>\n",
       "      <th>financial_stress</th>\n",
       "      <th>adverse_r_g</th>\n",
       "      <th>deficit_reduction</th>\n",
       "      <th>stochastic</th>\n",
       "      <th>edp</th>\n",
       "      <th>deficit_resilience</th>\n",
       "      <th>binding</th>\n",
       "      <th>debt_safeguard</th>\n",
       "    </tr>\n",
       "  </thead>\n",
       "  <tbody>\n",
       "    <tr>\n",
       "      <th>adjustment_period_1</th>\n",
       "      <td>-0.023</td>\n",
       "      <td>0.533</td>\n",
       "      <td>0.383</td>\n",
       "      <td>0.795</td>\n",
       "      <td>0.753</td>\n",
       "      <td>0.582</td>\n",
       "      <td>0.788</td>\n",
       "      <td>0.814</td>\n",
       "      <td>0.814</td>\n",
       "      <td>NaN</td>\n",
       "    </tr>\n",
       "    <tr>\n",
       "      <th>adjustment_period_2</th>\n",
       "      <td>-0.051</td>\n",
       "      <td>0.414</td>\n",
       "      <td>0.414</td>\n",
       "      <td>0.826</td>\n",
       "      <td>0.661</td>\n",
       "      <td>0.476</td>\n",
       "      <td>NaN</td>\n",
       "      <td>NaN</td>\n",
       "      <td>3.098</td>\n",
       "      <td>3.098</td>\n",
       "    </tr>\n",
       "    <tr>\n",
       "      <th>adjustment_period_3</th>\n",
       "      <td>0.186</td>\n",
       "      <td>0.694</td>\n",
       "      <td>0.240</td>\n",
       "      <td>0.970</td>\n",
       "      <td>0.396</td>\n",
       "      <td>0.468</td>\n",
       "      <td>NaN</td>\n",
       "      <td>NaN</td>\n",
       "      <td>0.970</td>\n",
       "      <td>NaN</td>\n",
       "    </tr>\n",
       "    <tr>\n",
       "      <th>adjustment_period_4</th>\n",
       "      <td>0.224</td>\n",
       "      <td>0.720</td>\n",
       "      <td>0.268</td>\n",
       "      <td>0.980</td>\n",
       "      <td>0.313</td>\n",
       "      <td>0.637</td>\n",
       "      <td>NaN</td>\n",
       "      <td>NaN</td>\n",
       "      <td>0.980</td>\n",
       "      <td>NaN</td>\n",
       "    </tr>\n",
       "  </tbody>\n",
       "</table>\n",
       "</div>"
      ],
      "text/plain": [
       "                     main_adjustment  lower_spb  financial_stress  \\\n",
       "adjustment_period_1           -0.023      0.533             0.383   \n",
       "adjustment_period_2           -0.051      0.414             0.414   \n",
       "adjustment_period_3            0.186      0.694             0.240   \n",
       "adjustment_period_4            0.224      0.720             0.268   \n",
       "\n",
       "                     adverse_r_g  deficit_reduction  stochastic   edp  \\\n",
       "adjustment_period_1        0.795              0.753       0.582 0.788   \n",
       "adjustment_period_2        0.826              0.661       0.476   NaN   \n",
       "adjustment_period_3        0.970              0.396       0.468   NaN   \n",
       "adjustment_period_4        0.980              0.313       0.637   NaN   \n",
       "\n",
       "                     deficit_resilience  binding  debt_safeguard  \n",
       "adjustment_period_1               0.814    0.814             NaN  \n",
       "adjustment_period_2                 NaN    3.098           3.098  \n",
       "adjustment_period_3                 NaN    0.970             NaN  \n",
       "adjustment_period_4                 NaN    0.980             NaN  "
      ]
     },
     "execution_count": 4,
     "metadata": {},
     "output_type": "execute_result"
    }
   ],
   "source": [
    "run_consecutive_dsa(\n",
    "        country = 'FRA',\n",
    "        start_year=2024, \n",
    "        initial_adjustment_period=7, \n",
    "        consecutive_adjustment_period=4, \n",
    "        number_of_adjustment_periods=4, \n",
    "        plot_results=True)"
   ]
  },
  {
   "cell_type": "markdown",
   "metadata": {},
   "source": [
    "Finally, the StochasticDsaModel Class offers several additional parameters choices that differ from the assumptions of the European Commission:\n",
    "- The period over which ageing costs affect SPB following the end of the adjustment period\n",
    "- The sample cutoff for stochastic shocks\n",
    "- The frequency of the shock data\n",
    "- The start and the length of stochastic projections (allowing for example to consider shocks during the adjustment period to all variables except for the primary balance)\n",
    "- The estimation methodology for stochastic shocks (either via joint-normal distribution or a VAR using either a bootstrap or a cholesky decomposition)\n",
    "- The size of the fiscal multiplier\n",
    "- The use of bond level data for the term structure of existing long-term debt \n",
    "- The use of a policy counterfactual which increases growth by x percent at a cost of y percent of GDP over z years from the start of the adjustment period"
   ]
  },
  {
   "cell_type": "code",
   "execution_count": 21,
   "metadata": {},
   "outputs": [],
   "source": [
    "deu_sdsa7 = StochasticDsaModel(\n",
    "                country='DEU', # ISO code of country\n",
    "                start_year=2023, # start year of projection, first year is baseline value\n",
    "                end_year=2070, # end year of projection\n",
    "                adjustment_period=4, # number of years for linear spb_bca adjustment\n",
    "                adjustment_start_year=2025, # start year of linear spb_bca adjustment\n",
    "                ageing_cost_period=10, # number of years for ageing cost adjustment\n",
    "                shock_sample_start=2000, # start year of shock sample\n",
    "                stochastic_start_year=None, # start year of stochastic projection\n",
    "                stochastic_period=5, # number of years for stochastic projection\n",
    "                shock_frequency='quarterly', # frequency of shocks, 'quarterly' or 'annual'\n",
    "                estimation='normal', # estimation method for covariance matrix, 'normal' or 'var'\n",
    "                var_method='bootstrap', # method for drawing shocks if estimation is 'var', 'cholesky' or 'bootstrap'\n",
    "                fiscal_multiplier=0.75, # size of the fiscal multiplier\n",
    "                growth_policy=False, # Growth policy counterfactual \n",
    "                growth_policy_effect=0, # Total effect of growth policy on GDP growth\n",
    "                growth_policy_cost=0, # Total cost of growth policy as percent of GDP\n",
    "                growth_policy_period=1, # Period of growth policy counterfactual\n",
    "                bond_data=False, # Use bond level data for repayment profile\n",
    "                )"
   ]
  },
  {
   "cell_type": "code",
   "execution_count": null,
   "metadata": {},
   "outputs": [],
   "source": []
  }
 ],
 "metadata": {
  "kernelspec": {
   "display_name": "base",
   "language": "python",
   "name": "python3"
  },
  "language_info": {
   "codemirror_mode": {
    "name": "ipython",
    "version": 3
   },
   "file_extension": ".py",
   "mimetype": "text/x-python",
   "name": "python",
   "nbconvert_exporter": "python",
   "pygments_lexer": "ipython3",
   "version": "3.9.16"
  },
  "orig_nbformat": 4
 },
 "nbformat": 4,
 "nbformat_minor": 2
}
