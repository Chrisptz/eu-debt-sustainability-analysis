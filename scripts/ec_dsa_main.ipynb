{
 "cells": [
  {
   "cell_type": "markdown",
   "metadata": {},
   "source": [
    "# A Quantitative Evaluation of the European Commission´s Fiscal Governance Proposal"
   ]
  },
  {
   "cell_type": "markdown",
   "metadata": {},
   "source": [
    "This notebook reproduces results of the Bruegel Working Paper \"A Quantitative Evaluation of the European Commission´s Fiscal Governance Proposal\" by Zsolt Darvas, Lennard Welslau, and Jeromin Zettelmeyer (2023). For details on the methodology see Annex II, \"Methodology and code for implementing the European Commission´s DSA in the context of the economic governance review\".\n",
    "\n",
    "For comments and suggestions please contact lennard.welslau[at]bruegel[dot]org."
   ]
  },
  {
   "cell_type": "code",
   "execution_count": 21,
   "metadata": {},
   "outputs": [
    {
     "name": "stdout",
     "output_type": "stream",
     "text": [
      "The autoreload extension is already loaded. To reload it, use:\n",
      "  %reload_ext autoreload\n"
     ]
    }
   ],
   "source": [
    "# Import libraries and modules\n",
    "pd.options.display.float_format = \"{:,.3f}\".format\n",
    "import seaborn as sns\n",
    "sns.set_style('whitegrid')\n",
    "\n",
    "# Import DSA model class and stochastic subclass\n",
    "from EcDsaModelClass import EcDsaModel\n",
    "from EcStochasticModelClass import EcStochasticModel\n",
    "\n",
    "# Import functions for analysis loops and plots\n",
    "from ec_dsa_functions import *\n",
    "\n",
    "# Set autoreleoad\n",
    "%load_ext autoreload\n",
    "%autoreload 2"
   ]
  },
  {
   "cell_type": "markdown",
   "metadata": {},
   "source": [
    "## Example Cases\n",
    "This section introduces some of the functionalities of the EcDsaModelClass and the EcStochasticModelClass."
   ]
  },
  {
   "cell_type": "markdown",
   "metadata": {},
   "source": [
    "### Deterministic Model Class"
   ]
  },
  {
   "cell_type": "markdown",
   "metadata": {},
   "source": [
    "Initialize model with country ISO code and adjustment period length. For deterministic projections the parent class \"EcDsaModel\" can be used."
   ]
  },
  {
   "cell_type": "code",
   "execution_count": 22,
   "metadata": {},
   "outputs": [],
   "source": [
    "bel_dsa_model = EcDsaModel(country='BEL', adjustment_period=4)"
   ]
  },
  {
   "cell_type": "markdown",
   "metadata": {},
   "source": [
    "Project the debt ratio forward, assuming linear adjustment to a structural primary balance target using the \"project\" method. \\\n",
    "To project the model under specific scenario assumptions, pass the scenario name as a string. Deterministic scenarios are \"main_adjustment\", \"adverse_r_g\", \"financial_stress\", and \"lower_spb\"."
   ]
  },
  {
   "cell_type": "code",
   "execution_count": 23,
   "metadata": {},
   "outputs": [],
   "source": [
    "bel_dsa_model.project(spb_target=1, scenario='main_adjustment')"
   ]
  },
  {
   "cell_type": "markdown",
   "metadata": {},
   "source": [
    "Show the resulting debt ratio and primary balance path using the \"df\" method. \\\n",
    "The \"df\" method takes strings of the model variables or a dictionary with model variables and desired column names as input argument and returns a pandas dataframe."
   ]
  },
  {
   "cell_type": "code",
   "execution_count": 24,
   "metadata": {},
   "outputs": [
    {
     "data": {
      "text/html": [
       "<div>\n",
       "<style scoped>\n",
       "    .dataframe tbody tr th:only-of-type {\n",
       "        vertical-align: middle;\n",
       "    }\n",
       "\n",
       "    .dataframe tbody tr th {\n",
       "        vertical-align: top;\n",
       "    }\n",
       "\n",
       "    .dataframe thead th {\n",
       "        text-align: right;\n",
       "    }\n",
       "</style>\n",
       "<table border=\"1\" class=\"dataframe\">\n",
       "  <thead>\n",
       "    <tr style=\"text-align: right;\">\n",
       "      <th></th>\n",
       "      <th></th>\n",
       "      <th>Debt ratio</th>\n",
       "      <th>Ageing-cost adjusted structural primary balance</th>\n",
       "      <th>Primary balance</th>\n",
       "      <th>Overall balance</th>\n",
       "    </tr>\n",
       "    <tr>\n",
       "      <th>t</th>\n",
       "      <th>y</th>\n",
       "      <th></th>\n",
       "      <th></th>\n",
       "      <th></th>\n",
       "      <th></th>\n",
       "    </tr>\n",
       "  </thead>\n",
       "  <tbody>\n",
       "    <tr>\n",
       "      <th>0</th>\n",
       "      <th>2022</th>\n",
       "      <td>105.129</td>\n",
       "      <td>-2.655</td>\n",
       "      <td>-2.365</td>\n",
       "      <td>NaN</td>\n",
       "    </tr>\n",
       "    <tr>\n",
       "      <th>1</th>\n",
       "      <th>2023</th>\n",
       "      <td>105.972</td>\n",
       "      <td>-3.138</td>\n",
       "      <td>-3.254</td>\n",
       "      <td>-4.690</td>\n",
       "    </tr>\n",
       "    <tr>\n",
       "      <th>2</th>\n",
       "      <th>2024</th>\n",
       "      <td>107.323</td>\n",
       "      <td>-2.504</td>\n",
       "      <td>-2.753</td>\n",
       "      <td>-4.725</td>\n",
       "    </tr>\n",
       "    <tr>\n",
       "      <th>3</th>\n",
       "      <th>2025</th>\n",
       "      <td>108.240</td>\n",
       "      <td>-1.628</td>\n",
       "      <td>-2.098</td>\n",
       "      <td>-4.364</td>\n",
       "    </tr>\n",
       "    <tr>\n",
       "      <th>4</th>\n",
       "      <th>2026</th>\n",
       "      <td>108.709</td>\n",
       "      <td>-0.752</td>\n",
       "      <td>-1.460</td>\n",
       "      <td>-3.963</td>\n",
       "    </tr>\n",
       "    <tr>\n",
       "      <th>5</th>\n",
       "      <th>2027</th>\n",
       "      <td>108.415</td>\n",
       "      <td>0.124</td>\n",
       "      <td>-0.688</td>\n",
       "      <td>-3.384</td>\n",
       "    </tr>\n",
       "    <tr>\n",
       "      <th>6</th>\n",
       "      <th>2028</th>\n",
       "      <td>107.338</td>\n",
       "      <td>1.000</td>\n",
       "      <td>0.187</td>\n",
       "      <td>-2.658</td>\n",
       "    </tr>\n",
       "    <tr>\n",
       "      <th>7</th>\n",
       "      <th>2029</th>\n",
       "      <td>105.511</td>\n",
       "      <td>1.000</td>\n",
       "      <td>0.426</td>\n",
       "      <td>-2.504</td>\n",
       "    </tr>\n",
       "    <tr>\n",
       "      <th>8</th>\n",
       "      <th>2030</th>\n",
       "      <td>103.854</td>\n",
       "      <td>1.000</td>\n",
       "      <td>0.656</td>\n",
       "      <td>-2.345</td>\n",
       "    </tr>\n",
       "    <tr>\n",
       "      <th>9</th>\n",
       "      <th>2031</th>\n",
       "      <td>102.666</td>\n",
       "      <td>1.000</td>\n",
       "      <td>0.627</td>\n",
       "      <td>-2.436</td>\n",
       "    </tr>\n",
       "  </tbody>\n",
       "</table>\n",
       "</div>"
      ],
      "text/plain": [
       "        Debt ratio  Ageing-cost adjusted structural primary balance  \\\n",
       "t y                                                                   \n",
       "0 2022     105.129                                           -2.655   \n",
       "1 2023     105.972                                           -3.138   \n",
       "2 2024     107.323                                           -2.504   \n",
       "3 2025     108.240                                           -1.628   \n",
       "4 2026     108.709                                           -0.752   \n",
       "5 2027     108.415                                            0.124   \n",
       "6 2028     107.338                                            1.000   \n",
       "7 2029     105.511                                            1.000   \n",
       "8 2030     103.854                                            1.000   \n",
       "9 2031     102.666                                            1.000   \n",
       "\n",
       "        Primary balance  Overall balance  \n",
       "t y                                       \n",
       "0 2022           -2.365              NaN  \n",
       "1 2023           -3.254           -4.690  \n",
       "2 2024           -2.753           -4.725  \n",
       "3 2025           -2.098           -4.364  \n",
       "4 2026           -1.460           -3.963  \n",
       "5 2027           -0.688           -3.384  \n",
       "6 2028            0.187           -2.658  \n",
       "7 2029            0.426           -2.504  \n",
       "8 2030            0.656           -2.345  \n",
       "9 2031            0.627           -2.436  "
      ]
     },
     "execution_count": 24,
     "metadata": {},
     "output_type": "execute_result"
    }
   ],
   "source": [
    "output_var_dict = {'d': 'Debt ratio', 'spb_bcoa': 'Ageing-cost adjusted structural primary balance', 'pb': 'Primary balance', 'ob':'Overall balance'}\n",
    "output_df = bel_dsa_model.df(output_var_dict)\n",
    "output_df.head(10)"
   ]
  },
  {
   "cell_type": "markdown",
   "metadata": {},
   "source": [
    "The \"find_spb_deterministic\" method finds the structural primary balance path so that specified criteria are met given scenario assumptions."
   ]
  },
  {
   "cell_type": "code",
   "execution_count": 25,
   "metadata": {},
   "outputs": [
    {
     "data": {
      "text/plain": [
       "1.8309999999998334"
      ]
     },
     "execution_count": 25,
     "metadata": {},
     "output_type": "execute_result"
    }
   ],
   "source": [
    "bel_dsa_model.find_spb_deterministic(scenario='adverse_r_g', criterion='debt_decline')"
   ]
  },
  {
   "cell_type": "markdown",
   "metadata": {},
   "source": [
    "The model is upodated automatically to the optimal SPB and we can plot the resulting debt ratio projection using the \"df\" method and build-in plotting function."
   ]
  },
  {
   "cell_type": "code",
   "execution_count": 26,
   "metadata": {},
   "outputs": [
    {
     "data": {
      "text/plain": [
       "<Axes: title={'center': 'Debt ratio projection Belgium'}, xlabel='(t, Year)', ylabel='Debt ratio'>"
      ]
     },
     "execution_count": 26,
     "metadata": {},
     "output_type": "execute_result"
    },
    {
     "data": {
      "image/png": "[encoded data removed]",
      "text/plain": [
       "<Figure size 1000x600 with 1 Axes>"
      ]
     },
     "metadata": {},
     "output_type": "display_data"
    }
   ],
   "source": [
    "bel_dsa_model.df('d').plot(title='Debt ratio projection Belgium', ylabel='Debt ratio', xlabel='(t, Year)', legend=False, figsize=(10, 6))"
   ]
  },
  {
   "cell_type": "markdown",
   "metadata": {},
   "source": [
    "### Stochastic Model Class"
   ]
  },
  {
   "cell_type": "markdown",
   "metadata": {},
   "source": [
    "The Stochastic Model Class is a subclass of the EcDsaModels and inherits all its functionalities. It is initiated analogously."
   ]
  },
  {
   "cell_type": "code",
   "execution_count": 27,
   "metadata": {},
   "outputs": [],
   "source": [
    "esp_dsa_stochastic_model = EcStochasticModel(country='ESP', adjustment_period=7)"
   ]
  },
  {
   "cell_type": "markdown",
   "metadata": {},
   "source": [
    "After projecting the debt path, the \"simulate\" method simulates N projections based on shocks to growth, interest rate, exchange rate, and primary balance."
   ]
  },
  {
   "cell_type": "code",
   "execution_count": 28,
   "metadata": {},
   "outputs": [],
   "source": [
    "esp_dsa_stochastic_model.project()\n",
    "esp_dsa_stochastic_model.simulate(N=10000)"
   ]
  },
  {
   "cell_type": "markdown",
   "metadata": {},
   "source": [
    "The \"find_spb_stochastic\" method optimizes for the primary balance path that ensures no more than 30% of simulated debt ratio paths are increasing."
   ]
  },
  {
   "cell_type": "code",
   "execution_count": 29,
   "metadata": {},
   "outputs": [
    {
     "data": {
      "text/plain": [
       "1.904087336434075"
      ]
     },
     "execution_count": 29,
     "metadata": {},
     "output_type": "execute_result"
    }
   ],
   "source": [
    "esp_dsa_stochastic_model.find_spb_stochastic(prob_target=0.3)"
   ]
  },
  {
   "cell_type": "markdown",
   "metadata": {},
   "source": [
    "The \"fanchart\" method plots the percentiles of the simulated distribution of the debt ratio."
   ]
  },
  {
   "cell_type": "code",
   "execution_count": 30,
   "metadata": {},
   "outputs": [
    {
     "data": {
      "image/png": "[encoded data removed]",
      "text/plain": [
       "<Figure size 1000x600 with 1 Axes>"
      ]
     },
     "metadata": {},
     "output_type": "display_data"
    }
   ],
   "source": [
    "esp_dsa_stochastic_model.fanchart(variable='d')"
   ]
  },
  {
   "cell_type": "markdown",
   "metadata": {},
   "source": [
    "The \"find_spb_deficit\" method optimizes for the structural primary balance that ensures a decline in the debt ratio after reaching a deficit below 3%."
   ]
  },
  {
   "cell_type": "code",
   "execution_count": 31,
   "metadata": {},
   "outputs": [
    {
     "name": "stdout",
     "output_type": "stream",
     "text": [
      "Deficit periods: 3\n",
      "spb_initial_adjustment_step 0.5\n",
      "ESP spb_target: {'main_adjustment': 1.178799999999832, 'lower_spb': 1.674299999999833, 'financial_stress': 1.178999999999832, 'adverse_r_g': 1.9873999999998329, 'deficit_reduction': 1.4565999999998325, 'debt_safeguard': 0.4214999999998323, 'stochastic': 1.908285208466657}\n"
     ]
    },
    {
     "data": {
      "text/plain": [
       "1.9873999999998329"
      ]
     },
     "execution_count": 31,
     "metadata": {},
     "output_type": "execute_result"
    }
   ],
   "source": [
    "esp_dsa_stochastic_model = EcStochasticModel(country='ESP', adjustment_period=7)\n",
    "spb_deficit_safeguard = esp_dsa_stochastic_model.find_spb_deficit()\n",
    "spb_deficit_safeguard"
   ]
  },
  {
   "cell_type": "code",
   "execution_count": 32,
   "metadata": {},
   "outputs": [
    {
     "data": {
      "text/html": [
       "<div>\n",
       "<style scoped>\n",
       "    .dataframe tbody tr th:only-of-type {\n",
       "        vertical-align: middle;\n",
       "    }\n",
       "\n",
       "    .dataframe tbody tr th {\n",
       "        vertical-align: top;\n",
       "    }\n",
       "\n",
       "    .dataframe thead th {\n",
       "        text-align: right;\n",
       "    }\n",
       "</style>\n",
       "<table border=\"1\" class=\"dataframe\">\n",
       "  <thead>\n",
       "    <tr style=\"text-align: right;\">\n",
       "      <th></th>\n",
       "      <th></th>\n",
       "      <th>Debt ratio</th>\n",
       "      <th>Ageing-cost adjusted structural primary balance</th>\n",
       "      <th>Primary balance</th>\n",
       "      <th>Overall balance</th>\n",
       "      <th>Annual adjustment</th>\n",
       "    </tr>\n",
       "    <tr>\n",
       "      <th>t</th>\n",
       "      <th>y</th>\n",
       "      <th></th>\n",
       "      <th></th>\n",
       "      <th></th>\n",
       "      <th></th>\n",
       "      <th></th>\n",
       "    </tr>\n",
       "  </thead>\n",
       "  <tbody>\n",
       "    <tr>\n",
       "      <th>0</th>\n",
       "      <th>2022</th>\n",
       "      <td>113.216</td>\n",
       "      <td>-1.571</td>\n",
       "      <td>-2.425</td>\n",
       "      <td>NaN</td>\n",
       "      <td>NaN</td>\n",
       "    </tr>\n",
       "    <tr>\n",
       "      <th>1</th>\n",
       "      <th>2023</th>\n",
       "      <td>110.581</td>\n",
       "      <td>-1.229</td>\n",
       "      <td>-1.589</td>\n",
       "      <td>-3.907</td>\n",
       "      <td>0.342</td>\n",
       "    </tr>\n",
       "    <tr>\n",
       "      <th>2</th>\n",
       "      <th>2024</th>\n",
       "      <td>109.073</td>\n",
       "      <td>-0.767</td>\n",
       "      <td>-0.885</td>\n",
       "      <td>-3.317</td>\n",
       "      <td>0.462</td>\n",
       "    </tr>\n",
       "    <tr>\n",
       "      <th>3</th>\n",
       "      <th>2025</th>\n",
       "      <td>108.012</td>\n",
       "      <td>-0.267</td>\n",
       "      <td>-0.571</td>\n",
       "      <td>-3.264</td>\n",
       "      <td>0.500</td>\n",
       "    </tr>\n",
       "    <tr>\n",
       "      <th>4</th>\n",
       "      <th>2026</th>\n",
       "      <td>106.844</td>\n",
       "      <td>0.233</td>\n",
       "      <td>-0.183</td>\n",
       "      <td>-3.080</td>\n",
       "      <td>0.500</td>\n",
       "    </tr>\n",
       "    <tr>\n",
       "      <th>5</th>\n",
       "      <th>2027</th>\n",
       "      <td>105.445</td>\n",
       "      <td>0.733</td>\n",
       "      <td>0.279</td>\n",
       "      <td>-2.782</td>\n",
       "      <td>0.500</td>\n",
       "    </tr>\n",
       "    <tr>\n",
       "      <th>6</th>\n",
       "      <th>2028</th>\n",
       "      <td>103.876</td>\n",
       "      <td>1.047</td>\n",
       "      <td>0.674</td>\n",
       "      <td>-2.515</td>\n",
       "      <td>0.314</td>\n",
       "    </tr>\n",
       "    <tr>\n",
       "      <th>7</th>\n",
       "      <th>2029</th>\n",
       "      <td>102.298</td>\n",
       "      <td>1.360</td>\n",
       "      <td>1.042</td>\n",
       "      <td>-2.249</td>\n",
       "      <td>0.314</td>\n",
       "    </tr>\n",
       "    <tr>\n",
       "      <th>8</th>\n",
       "      <th>2030</th>\n",
       "      <td>100.714</td>\n",
       "      <td>1.674</td>\n",
       "      <td>1.381</td>\n",
       "      <td>-1.989</td>\n",
       "      <td>0.314</td>\n",
       "    </tr>\n",
       "    <tr>\n",
       "      <th>9</th>\n",
       "      <th>2031</th>\n",
       "      <td>99.160</td>\n",
       "      <td>1.987</td>\n",
       "      <td>1.693</td>\n",
       "      <td>-1.741</td>\n",
       "      <td>0.314</td>\n",
       "    </tr>\n",
       "  </tbody>\n",
       "</table>\n",
       "</div>"
      ],
      "text/plain": [
       "        Debt ratio  Ageing-cost adjusted structural primary balance  \\\n",
       "t y                                                                   \n",
       "0 2022     113.216                                           -1.571   \n",
       "1 2023     110.581                                           -1.229   \n",
       "2 2024     109.073                                           -0.767   \n",
       "3 2025     108.012                                           -0.267   \n",
       "4 2026     106.844                                            0.233   \n",
       "5 2027     105.445                                            0.733   \n",
       "6 2028     103.876                                            1.047   \n",
       "7 2029     102.298                                            1.360   \n",
       "8 2030     100.714                                            1.674   \n",
       "9 2031      99.160                                            1.987   \n",
       "\n",
       "        Primary balance  Overall balance  Annual adjustment  \n",
       "t y                                                          \n",
       "0 2022           -2.425              NaN                NaN  \n",
       "1 2023           -1.589           -3.907              0.342  \n",
       "2 2024           -0.885           -3.317              0.462  \n",
       "3 2025           -0.571           -3.264              0.500  \n",
       "4 2026           -0.183           -3.080              0.500  \n",
       "5 2027            0.279           -2.782              0.500  \n",
       "6 2028            0.674           -2.515              0.314  \n",
       "7 2029            1.042           -2.249              0.314  \n",
       "8 2030            1.381           -1.989              0.314  \n",
       "9 2031            1.693           -1.741              0.314  "
      ]
     },
     "execution_count": 32,
     "metadata": {},
     "output_type": "execute_result"
    }
   ],
   "source": [
    "output_df = esp_dsa_stochastic_model.df(output_var_dict)\n",
    "output_df['Annual adjustment'] = output_df['Ageing-cost adjusted structural primary balance'].diff()\n",
    "output_df.head(10)"
   ]
  },
  {
   "cell_type": "markdown",
   "metadata": {},
   "source": [
    "The \"find_deficit_prob\" method builds on the stochastic model to calculate the probabilites of an excessive deficit in each year of the adjustment period. \\\n",
    "It requires the specification of an adjustment path by passing aa structural primary balance target, and optionally, the number and step size of initial periods under deficit procedure. "
   ]
  },
  {
   "cell_type": "code",
   "execution_count": 33,
   "metadata": {},
   "outputs": [
    {
     "data": {
      "text/plain": [
       "Text(0.5, 1.0, 'Probability of deficit during 7-year adjustment Spain')"
      ]
     },
     "execution_count": 33,
     "metadata": {},
     "output_type": "execute_result"
    },
    {
     "data": {
      "image/png": "[encoded data removed]",
      "text/plain": [
       "<Figure size 640x480 with 1 Axes>"
      ]
     },
     "metadata": {},
     "output_type": "display_data"
    }
   ],
   "source": [
    "prob_deficit = esp_dsa_stochastic_model.find_deficit_prob(spb_target=1.9473, spb_initial_adjustment_period=3, spb_initial_adjustment_step=0.5)\n",
    "plt.plot(np.arange(2025, 2032), prob_deficit, marker='o', linestyle='--', color='red')\n",
    "plt.title('Probability of deficit during 7-year adjustment Spain')"
   ]
  },
  {
   "cell_type": "markdown",
   "metadata": {},
   "source": [
    "Finally, the \"find_spb_post_debt_safeguard\" is a method that finds the strucutral primary balance needed to both satsify the debt safeguard over the first four years and satisfies all other criteria over the next three years. This method is needed to test 7-year adjustment cases in which the average adjustment over the first four years does not satisfy the debt safeguard."
   ]
  },
  {
   "cell_type": "code",
   "execution_count": 34,
   "metadata": {},
   "outputs": [
    {
     "name": "stdout",
     "output_type": "stream",
     "text": [
      "BEL spb target: {'main_adjustment': 1.0827999999998326, 'lower_spb': 1.5846999999998328, 'financial_stress': 1.0829999999998325, 'adverse_r_g': 1.9015999999998334, 'deficit_reduction': 1.4055999999998325, 'stochastic': 1.671706698649469}\n"
     ]
    },
    {
     "data": {
      "text/plain": [
       "1.9015999999998334"
      ]
     },
     "execution_count": 34,
     "metadata": {},
     "output_type": "execute_result"
    }
   ],
   "source": [
    "bel_stochastic_model = EcStochasticModel(country='BEL', adjustment_period=7)\n",
    "bel_stochastic_model.find_spb_post_debt_safeguard()"
   ]
  },
  {
   "cell_type": "code",
   "execution_count": 35,
   "metadata": {},
   "outputs": [
    {
     "data": {
      "text/html": [
       "<div>\n",
       "<style scoped>\n",
       "    .dataframe tbody tr th:only-of-type {\n",
       "        vertical-align: middle;\n",
       "    }\n",
       "\n",
       "    .dataframe tbody tr th {\n",
       "        vertical-align: top;\n",
       "    }\n",
       "\n",
       "    .dataframe thead th {\n",
       "        text-align: right;\n",
       "    }\n",
       "</style>\n",
       "<table border=\"1\" class=\"dataframe\">\n",
       "  <thead>\n",
       "    <tr style=\"text-align: right;\">\n",
       "      <th></th>\n",
       "      <th></th>\n",
       "      <th>Debt ratio</th>\n",
       "      <th>Ageing-cost adjusted structural primary balance</th>\n",
       "      <th>Primary balance</th>\n",
       "      <th>Overall balance</th>\n",
       "      <th>Annual adjustment</th>\n",
       "    </tr>\n",
       "    <tr>\n",
       "      <th>t</th>\n",
       "      <th>y</th>\n",
       "      <th></th>\n",
       "      <th></th>\n",
       "      <th></th>\n",
       "      <th></th>\n",
       "      <th></th>\n",
       "    </tr>\n",
       "  </thead>\n",
       "  <tbody>\n",
       "    <tr>\n",
       "      <th>0</th>\n",
       "      <th>2022</th>\n",
       "      <td>105.129</td>\n",
       "      <td>-2.655</td>\n",
       "      <td>-2.365</td>\n",
       "      <td>NaN</td>\n",
       "      <td>NaN</td>\n",
       "    </tr>\n",
       "    <tr>\n",
       "      <th>1</th>\n",
       "      <th>2023</th>\n",
       "      <td>105.972</td>\n",
       "      <td>-3.138</td>\n",
       "      <td>-3.254</td>\n",
       "      <td>-4.690</td>\n",
       "      <td>-0.484</td>\n",
       "    </tr>\n",
       "    <tr>\n",
       "      <th>2</th>\n",
       "      <th>2024</th>\n",
       "      <td>107.323</td>\n",
       "      <td>-2.504</td>\n",
       "      <td>-2.753</td>\n",
       "      <td>-4.725</td>\n",
       "      <td>0.635</td>\n",
       "    </tr>\n",
       "    <tr>\n",
       "      <th>3</th>\n",
       "      <th>2025</th>\n",
       "      <td>108.241</td>\n",
       "      <td>-1.625</td>\n",
       "      <td>-2.096</td>\n",
       "      <td>-4.362</td>\n",
       "      <td>0.879</td>\n",
       "    </tr>\n",
       "    <tr>\n",
       "      <th>4</th>\n",
       "      <th>2026</th>\n",
       "      <td>108.708</td>\n",
       "      <td>-0.746</td>\n",
       "      <td>-1.457</td>\n",
       "      <td>-3.960</td>\n",
       "      <td>0.879</td>\n",
       "    </tr>\n",
       "    <tr>\n",
       "      <th>5</th>\n",
       "      <th>2027</th>\n",
       "      <td>108.409</td>\n",
       "      <td>0.133</td>\n",
       "      <td>-0.682</td>\n",
       "      <td>-3.378</td>\n",
       "      <td>0.879</td>\n",
       "    </tr>\n",
       "    <tr>\n",
       "      <th>6</th>\n",
       "      <th>2028</th>\n",
       "      <td>107.323</td>\n",
       "      <td>1.011</td>\n",
       "      <td>0.196</td>\n",
       "      <td>-2.649</td>\n",
       "      <td>0.879</td>\n",
       "    </tr>\n",
       "    <tr>\n",
       "      <th>7</th>\n",
       "      <th>2029</th>\n",
       "      <td>105.398</td>\n",
       "      <td>1.308</td>\n",
       "      <td>0.760</td>\n",
       "      <td>-2.176</td>\n",
       "      <td>0.297</td>\n",
       "    </tr>\n",
       "    <tr>\n",
       "      <th>8</th>\n",
       "      <th>2030</th>\n",
       "      <td>103.314</td>\n",
       "      <td>1.605</td>\n",
       "      <td>1.235</td>\n",
       "      <td>-1.765</td>\n",
       "      <td>0.297</td>\n",
       "    </tr>\n",
       "    <tr>\n",
       "      <th>9</th>\n",
       "      <th>2031</th>\n",
       "      <td>101.204</td>\n",
       "      <td>1.902</td>\n",
       "      <td>1.620</td>\n",
       "      <td>-1.422</td>\n",
       "      <td>0.297</td>\n",
       "    </tr>\n",
       "  </tbody>\n",
       "</table>\n",
       "</div>"
      ],
      "text/plain": [
       "        Debt ratio  Ageing-cost adjusted structural primary balance  \\\n",
       "t y                                                                   \n",
       "0 2022     105.129                                           -2.655   \n",
       "1 2023     105.972                                           -3.138   \n",
       "2 2024     107.323                                           -2.504   \n",
       "3 2025     108.241                                           -1.625   \n",
       "4 2026     108.708                                           -0.746   \n",
       "5 2027     108.409                                            0.133   \n",
       "6 2028     107.323                                            1.011   \n",
       "7 2029     105.398                                            1.308   \n",
       "8 2030     103.314                                            1.605   \n",
       "9 2031     101.204                                            1.902   \n",
       "\n",
       "        Primary balance  Overall balance  Annual adjustment  \n",
       "t y                                                          \n",
       "0 2022           -2.365              NaN                NaN  \n",
       "1 2023           -3.254           -4.690             -0.484  \n",
       "2 2024           -2.753           -4.725              0.635  \n",
       "3 2025           -2.096           -4.362              0.879  \n",
       "4 2026           -1.457           -3.960              0.879  \n",
       "5 2027           -0.682           -3.378              0.879  \n",
       "6 2028            0.196           -2.649              0.879  \n",
       "7 2029            0.760           -2.176              0.297  \n",
       "8 2030            1.235           -1.765              0.297  \n",
       "9 2031            1.620           -1.422              0.297  "
      ]
     },
     "execution_count": 35,
     "metadata": {},
     "output_type": "execute_result"
    }
   ],
   "source": [
    "output_df = bel_stochastic_model.df(output_var_dict)\n",
    "output_df['Annual adjustment'] = output_df['Ageing-cost adjusted structural primary balance'].diff()\n",
    "output_df.head(10)"
   ]
  },
  {
   "cell_type": "markdown",
   "metadata": {},
   "source": [
    "## Define variables"
   ]
  },
  {
   "cell_type": "code",
   "execution_count": 36,
   "metadata": {},
   "outputs": [],
   "source": [
    "today = datetime.datetime.now().strftime('%Y-%m-%d_%H-%M')\n",
    "\n",
    "eu_code_dict = {\n",
    "    'AUT': 'Austria',\n",
    "    'BEL': 'Belgium',\n",
    "    'CYP': 'Cyprus',\n",
    "    'CZE': 'Czech Republic',\n",
    "    'DEU': 'Germany',\n",
    "    'DNK': 'Denmark',\n",
    "    'ESP': 'Spain',\n",
    "    'FIN': 'Finland',\n",
    "    'FRA': 'France',\n",
    "    'GRC': 'Greece',\n",
    "    'HRV': 'Croatia',\n",
    "    'HUN': 'Hungary',\n",
    "    'IRL': 'Ireland',\n",
    "    'ITA': 'Italy',\n",
    "    'NLD': 'Netherlands',\n",
    "    'POL': 'Poland',\n",
    "    'PRT': 'Portugal',\n",
    "    'ROU': 'Romania',\n",
    "    'SVK': 'Slovakia',\n",
    "    'SVN': 'Slovenia',\n",
    "    'SWE': 'Sweden',\n",
    "    'BGR': 'Bulgaria',\n",
    "    'MLT': 'Malta',\n",
    "    'LTU': 'Lithuania',\n",
    "    'LVA': 'Latvia'\n",
    "}\n",
    "\n",
    "eu_codes = list(eu_code_dict.keys())\n",
    "\n",
    "var_list = [\n",
    "    'rg', # real GDP growth\n",
    "    'rg_pot', # potential real GDP growth\n",
    "    'ng',  # nominal GDP growth\n",
    "    'output_gap', # output gap\n",
    "    'pi', # inflation\n",
    "    'rgdp_pot', # potential real GDP\n",
    "    'rgdp', # real GDP\n",
    "    'ngdp', # nominal GDP\n",
    "    'i_st', # short-term interest rate\n",
    "    'i_lt', # long-term interest rate\n",
    "    'iir_lt', # implicit long-term interest rate\n",
    "    'iir', # implicit interest rate\n",
    "    'sf', # stock flow adjustment\n",
    "    'ageing_cost', # ageing cost\n",
    "    'ageing_component', # ageing component of primary balance\n",
    "    'cyclical_component', # cyclical component of primary balance\n",
    "    'spb_bcoa', # ageing-cost adjusted structural primary balance\n",
    "    'pb', # primary balance\n",
    "    'pb_cyclical_adj', # cyclically adjusted primary balance\n",
    "    'pb_cyclical_ageing_adj', # cyclically and ageing-cost adjusted primary balance\n",
    "    'ob', # overall balance\n",
    "    'd', # debt ratio\n",
    "    'D', # debt level\n",
    "    'D_lt_inst', # long-term instirutional debt level \n",
    "    'D_st', # short-term debt level\n",
    "    'D_lt', # long-term debt level\n",
    "    'amortization', # amortization\n",
    "    'amortization_lt', # long-term amortization\n",
    "    'amortization_lt_inst' # long-term institutional amortization\n",
    "    ]\n",
    "\n",
    "# Set path\n",
    "if not os.path.exists(f'../output/{today}'):\n",
    "    os.makedirs(f'../output/{today}')\n",
    "if not os.path.exists(f'../output/{today}/fancharts'):\n",
    "    os.makedirs(f'../output/{today}/fancharts') \n",
    "if not os.path.exists(f'../output/{today}/results_charts'):\n",
    "    os.makedirs(f'../output/{today}/results_charts')       \n",
    "output_path = f'../output/{today}'"
   ]
  },
  {
   "attachments": {},
   "cell_type": "markdown",
   "metadata": {},
   "source": [
    "## Run scenario analysis\n",
    "\n",
    "This section calcualtes optimal primary balances and addiitonal model variables under different scenarios. These variables are saved in a results dictionary, which is subsequently used to assess the applicability of additional safeguards, select the binding scenario, and prepare result figures."
   ]
  },
  {
   "cell_type": "code",
   "execution_count": 37,
   "metadata": {},
   "outputs": [],
   "source": [
    "# Initialize results dictionary\n",
    "results_dict = {}\n",
    "for country in eu_codes:\n",
    "    results_dict[country] = {}\n",
    "    for adjustment_period in [4, 7]:\n",
    "        results_dict[country][adjustment_period] = {}"
   ]
  },
  {
   "cell_type": "markdown",
   "metadata": {},
   "source": [
    "### Find optimal structural primary balances for deterministic scenarios"
   ]
  },
  {
   "cell_type": "code",
   "execution_count": 38,
   "metadata": {},
   "outputs": [
    {
     "name": "stdout",
     "output_type": "stream",
     "text": [
      "2 of 25 - Estimated remaining time: 10.2 minutes\r"
     ]
    }
   ],
   "source": [
    "run_deterministic_scenario_loop(eu_codes, results_dict, var_list)"
   ]
  },
  {
   "cell_type": "markdown",
   "metadata": {},
   "source": [
    "### Find optimal structural primary balances for stochastic scenarios"
   ]
  },
  {
   "cell_type": "code",
   "execution_count": null,
   "metadata": {},
   "outputs": [
    {
     "name": "stdout",
     "output_type": "stream",
     "text": [
      "25 of 25 - Estimated remaining time: 0.0 minutess\r"
     ]
    }
   ],
   "source": [
    "run_stochastic_scenario_loop(eu_codes, results_dict, output_path, var_list, today)"
   ]
  },
  {
   "cell_type": "markdown",
   "metadata": {},
   "source": [
    "### Find optimal structural primary balances after a binding debt safeguard in the 7-year scenario"
   ]
  },
  {
   "cell_type": "code",
   "execution_count": null,
   "metadata": {},
   "outputs": [
    {
     "name": "stdout",
     "output_type": "stream",
     "text": [
      "Calculating optimal spb for BEL 7 1.9263999999998331 from adverse_r_g\n",
      "BEL spb target: {'main_adjustment': 1.0827999999998326, 'lower_spb': 1.5846999999998328, 'financial_stress': 1.0829999999998325, 'adverse_r_g': 1.9015999999998334, 'deficit_reduction': 1.4055999999998325, 'stochastic': 1.6668774259545145}\n",
      "Calculating optimal spb for FRA 7 2.335999999999817 from debt_safeguard\n",
      "FRA spb target: {'main_adjustment': 0.35589999999983174, 'lower_spb': 0.31919999999983134, 'financial_stress': 0.35589999999983174, 'adverse_r_g': 0.896999999999832, 'deficit_reduction': 0.3671999999998316, 'stochastic': 0.7771444819085059}\n",
      "Calculating optimal spb for NLD 7 0.26189999999983193 from deficit_reduction\n",
      "Calculating optimal spb for ROU 7 1.207999999999832 from deficit_reduction\n",
      "ROU spb target: {'main_adjustment': -0.1790000000001679, 'lower_spb': 0.18689999999983148, 'financial_stress': -0.1790000000001679, 'adverse_r_g': 0.15719999999983142, 'deficit_reduction': 1.149299999999832, 'stochastic': 0.4831509225007217}\n",
      "Calculating optimal spb for SVK 7 1.3470999999998323 from deficit_reduction\n",
      "SVK spb target: {'main_adjustment': 0.6217999999998324, 'lower_spb': 0.9910999999998328, 'financial_stress': 0.6218999999998324, 'adverse_r_g': 0.9556999999998322, 'deficit_reduction': 1.320399999999833, 'stochastic': 0.6715863640342472}\n",
      "Calculating optimal spb for BGR 7 3.120699999999789 from debt_safeguard\n",
      "BGR spb target: {'main_adjustment': -2.931000000000153, 'lower_spb': -2.5647000000001685, 'financial_stress': -2.931000000000153, 'adverse_r_g': -2.6623000000001613, 'deficit_reduction': -1.0910000000001696, 'stochastic': -2.9999804217621904}\n",
      "Calculating optimal spb for LVA 7 -1.4176000000001685 from deficit_reduction\n"
     ]
    }
   ],
   "source": [
    "run_post_debt_safeguard_loop(results_dict, var_list)"
   ]
  },
  {
   "cell_type": "markdown",
   "metadata": {},
   "source": [
    "### Find optimal structural primary balances for binding deficit safeguard scenarios"
   ]
  },
  {
   "cell_type": "code",
   "execution_count": null,
   "metadata": {},
   "outputs": [
    {
     "name": "stdout",
     "output_type": "stream",
     "text": [
      "Calculating optimal spb for ESP 7 1.9994999999998324 from adverse_r_g\n",
      "Deficit periods: 3\n",
      "spb_initial_adjustment_step 0.5\n",
      "ESP spb_target: {'main_adjustment': 1.178799999999832, 'lower_spb': 1.674299999999833, 'financial_stress': 1.178999999999832, 'adverse_r_g': 1.9873999999998329, 'deficit_reduction': 1.4565999999998325, 'debt_safeguard': 0.4214999999998323, 'stochastic': 1.9111079703669545}\n",
      "Calculating optimal spb for HUN 7 3.8264171803378786 from stochastic\n",
      "Deficit periods: 4\n",
      "spb_initial_adjustment_step 0.5\n",
      "HUN spb_target: {'main_adjustment': 2.6442999999998067, 'lower_spb': 2.9976999999998064, 'financial_stress': 2.6441999999998065, 'adverse_r_g': 3.045599999999801, 'deficit_reduction': 2.9622999999997957, 'debt_safeguard': 1.5918999999998331, 'stochastic': 3.812889778461773}\n",
      "Calculating optimal spb for ITA 7 2.6828999999998024 from deficit_reduction\n",
      "Deficit periods: 6\n",
      "spb_initial_adjustment_step 0.5\n",
      "ITA spb_target: {'main_adjustment': 1.693899999999833, 'lower_spb': 1.9206999999998335, 'financial_stress': 1.6980999999998325, 'adverse_r_g': 2.4646999999998114, 'deficit_reduction': 2.6286999999998164, 'debt_safeguard': 2.055999999999823}\n",
      "Calculating optimal spb for POL 4 -0.2751000000001683 from deficit_reduction\n",
      "Deficit periods: 2\n",
      "spb_initial_adjustment_step 0.5\n",
      "POL spb_target: {'main_adjustment': -1.4015000000001698, 'lower_spb': -0.9921000000001694, 'financial_stress': -1.4015000000001698, 'adverse_r_g': -1.0375000000001688, 'deficit_reduction': -0.3240000000001686, 'debt_safeguard': -6.097500000000066, 'stochastic': -1.6453231911755082}\n",
      "Calculating optimal spb for POL 7 -0.20340000000016836 from deficit_reduction\n",
      "Deficit periods: 2\n",
      "spb_initial_adjustment_step 0.5\n",
      "POL spb_target: {'main_adjustment': -1.1751000000001692, 'lower_spb': -0.8376000000001687, 'financial_stress': -1.1751000000001692, 'adverse_r_g': -0.855100000000169, 'deficit_reduction': -0.2967000000001683, 'debt_safeguard': -0.6674000000001685, 'stochastic': -1.3920571027998863}\n",
      "Calculating optimal spb for MLT 4 -0.7219314683616219 from stochastic\n",
      "Deficit periods: 3\n",
      "spb_initial_adjustment_step 0.5\n",
      "MLT spb_target: {'main_adjustment': -1.7592000000001693, 'lower_spb': -1.3248000000001694, 'financial_stress': -1.7591000000001693, 'adverse_r_g': -1.3224000000001697, 'deficit_reduction': -0.9228000000001693, 'debt_safeguard': -8.14850000000002, 'stochastic': -0.8057784897927294}\n",
      "Calculating optimal spb for MLT 7 -0.4073573312053523 from stochastic\n",
      "Deficit periods: 3\n",
      "spb_initial_adjustment_step 0.5\n",
      "MLT spb_target: {'main_adjustment': -1.3216000000001698, 'lower_spb': -0.9587000000001686, 'financial_stress': -1.3215000000001698, 'adverse_r_g': -0.9394000000001685, 'deficit_reduction': -0.562500000000169, 'debt_safeguard': -1.49080000000017, 'stochastic': -0.7103151831239501}\n"
     ]
    }
   ],
   "source": [
    "run_deficit_safeguard_loop(results_dict, var_list)"
   ]
  },
  {
   "cell_type": "markdown",
   "metadata": {},
   "source": [
    "### Run scenarios with baseline assumptions and binding structural primary balance"
   ]
  },
  {
   "cell_type": "code",
   "execution_count": null,
   "metadata": {},
   "outputs": [],
   "source": [
    "run_binding_baseline_loop(results_dict, var_list)"
   ]
  },
  {
   "cell_type": "markdown",
   "metadata": {},
   "source": [
    "### Find the probability of excessive deficit during the adjustment period"
   ]
  },
  {
   "cell_type": "code",
   "execution_count": null,
   "metadata": {},
   "outputs": [],
   "source": [
    "deficit_prob_dict = run_deficit_prob_loop(results_dict)"
   ]
  },
  {
   "cell_type": "markdown",
   "metadata": {},
   "source": [
    "## Save results to output folder"
   ]
  },
  {
   "cell_type": "code",
   "execution_count": null,
   "metadata": {},
   "outputs": [],
   "source": [
    "save_deficit_prob(deficit_prob_dict, output_path, today)\n",
    "save_timeseries(results_dict, output_path, today)\n",
    "save_spbstar(results_dict, output_path, today)\n",
    "save_fancharts(results_dict, output_path, today)"
   ]
  },
  {
   "cell_type": "markdown",
   "metadata": {},
   "source": [
    "## Figure 2"
   ]
  },
  {
   "cell_type": "code",
   "execution_count": null,
   "metadata": {},
   "outputs": [],
   "source": [
    "bel_chart_dict = calc_fig2(results_dict)\n",
    "plot_save_fig2(bel_chart_dict, output_path, today)"
   ]
  },
  {
   "cell_type": "markdown",
   "metadata": {},
   "source": [
    "## Figure 3"
   ]
  },
  {
   "cell_type": "code",
   "execution_count": null,
   "metadata": {},
   "outputs": [],
   "source": [
    "plot_save_fig3(results_dict, output_path)"
   ]
  },
  {
   "cell_type": "markdown",
   "metadata": {},
   "source": [
    "## Annex charts"
   ]
  },
  {
   "cell_type": "code",
   "execution_count": null,
   "metadata": {},
   "outputs": [],
   "source": [
    "chart_dict = calc_annex_charts(results_dict)\n",
    "plot_save_annex_charts(chart_dict, output_path, today)"
   ]
  }
 ],
 "metadata": {
  "kernelspec": {
   "display_name": "base",
   "language": "python",
   "name": "python3"
  },
  "language_info": {
   "codemirror_mode": {
    "name": "ipython",
    "version": 3
   },
   "file_extension": ".py",
   "mimetype": "text/x-python",
   "name": "python",
   "nbconvert_exporter": "python",
   "pygments_lexer": "ipython3",
   "version": "3.9.16"
  },
  "orig_nbformat": 4
 },
 "nbformat": 4,
 "nbformat_minor": 2
}
